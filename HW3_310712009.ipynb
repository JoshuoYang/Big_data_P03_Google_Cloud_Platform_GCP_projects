{
  "cells": [
    {
      "cell_type": "markdown",
      "id": "2dc398b3",
      "metadata": {
        "id": "2dc398b3"
      },
      "source": [
        "# Q1\n",
        "Implement a program to calculate the average occurrences of each word in a\n",
        "sentence in the attached article (Youvegottofindwhatyoulove.txt).\n",
        "\n",
        "A. Show the top 30 most frequent occurring words and their average occurrences in a sentence.\n",
        "\n",
        "B. According to the result, what are the characteristics of these words?"
      ]
    },
    {
      "cell_type": "code",
      "execution_count": null,
      "id": "b4bd5efd",
      "metadata": {
        "id": "b4bd5efd"
      },
      "outputs": [],
      "source": [
        "import pandas as pd\n",
        "from pyspark.sql import SparkSession\n",
        "from pyspark import SparkConf, SparkContext"
      ]
    },
    {
      "cell_type": "code",
      "execution_count": null,
      "id": "e7648c72",
      "metadata": {
        "id": "e7648c72",
        "outputId": "5028f502-f363-4c1f-bbf2-ed001c97c666"
      },
      "outputs": [
        {
          "name": "stderr",
          "output_type": "stream",
          "text": [
            "Setting default log level to \"WARN\".\n",
            "To adjust logging level use sc.setLogLevel(newLevel). For SparkR, use setLogLevel(newLevel).\n",
            "22/04/30 03:58:29 INFO org.apache.spark.SparkEnv: Registering MapOutputTracker\n",
            "22/04/30 03:58:29 INFO org.apache.spark.SparkEnv: Registering BlockManagerMaster\n",
            "22/04/30 03:58:29 INFO org.apache.spark.SparkEnv: Registering BlockManagerMasterHeartbeat\n",
            "22/04/30 03:58:30 INFO org.apache.spark.SparkEnv: Registering OutputCommitCoordinator\n"
          ]
        }
      ],
      "source": [
        "spark = SparkSession.builder.master(\"yarn\").appName(\"user\").getOrCreate()\n",
        "sc = spark.sparkContext"
      ]
    },
    {
      "cell_type": "code",
      "execution_count": null,
      "id": "1df11ddf",
      "metadata": {
        "id": "1df11ddf"
      },
      "outputs": [],
      "source": [
        "path0 = 'gs://yellow_tripdata_2018_10/Youvegottofindwhatyoulove.txt'\n",
        "text1 = pd.read_table(path0, header = None)"
      ]
    },
    {
      "cell_type": "code",
      "execution_count": null,
      "id": "a023b345",
      "metadata": {
        "id": "a023b345",
        "outputId": "a59d5cab-f134-49a1-f1c8-9d68f759a1d9"
      },
      "outputs": [
        {
          "data": {
            "text/plain": [
              "['I am honored to be with you today at your commencement from one of the finest universities in the world. I never graduated from college. Truth be told, this is the closest I’ve ever gotten to a college graduation. Today I want to tell you three stories from my life. That’s it. No big deal. Just three stories.',\n",
              " 'I dropped out of Reed College after the first 6 months, but then stayed around as a drop-in for another 18 months or so before I really quit. So why did I drop out?',\n",
              " 'It started before I was born. My biological mother was a young, unwed college graduate student, and she decided to put me up for adoption. She felt very strongly that I should be adopted by college graduates, so everything was all set for me to be adopted at birth by a lawyer and his wife. Except that when I popped out they decided at the last minute that they really wanted a girl. So my parents, who were on a waiting list, got a call in the middle of the night asking: “We have an unexpected baby boy; do you want him?” They said: “Of course.” My biological mother later found out that my mother had never graduated from college and that my father had never graduated from high school. She refused to sign the final adoption papers. She only relented a few months later when my parents promised that I would someday go to college.',\n",
              " 'And 17 years later I did go to college. But I naively chose a college that was almost as expensive as Stanford, and all of my working-class parents’ savings were being spent on my college tuition. After six months, I couldn’t see the value in it. I had no idea what I wanted to do with my life and no idea how college was going to help me figure it out. And here I was spending all of the money my parents had saved their entire life. So I decided to drop out and trust that it would all work out OK. It was pretty scary at the time, but looking back it was one of the best decisions I ever made. The minute I dropped out I could stop taking the required classes that didn’t interest me, and begin dropping in on the ones that looked interesting.',\n",
              " 'It wasn’t all romantic. I didn’t have a dorm room, so I slept on the floor in friends’ rooms, I returned Coke bottles for the 5¢ deposits to buy food with, and I would walk the 7 miles across town every Sunday night to get one good meal a week at the Hare Krishna temple. I loved it. And much of what I stumbled into by following my curiosity and intuition turned out to be priceless later on. Let me give you one example:',\n",
              " 'Reed College at that time offered perhaps the best calligraphy instruction in the country. Throughout the campus every poster, every label on every drawer, was beautifully hand calligraphed. Because I had dropped out and didn’t have to take the normal classes, I decided to take a calligraphy class to learn how to do this. I learned about serif and sans serif typefaces, about varying the amount of space between different letter combinations, about what makes great typography great. It was beautiful, historical, artistically subtle in a way that science can’t capture, and I found it fascinating.',\n",
              " 'None of this had even a hope of any practical application in my life. But 10 years later, when we were designing the first Macintosh computer, it all came back to me. And we designed it all into the Mac. It was the first computer with beautiful typography. If I had never dropped in on that single course in college, the Mac would have never had multiple typefaces or proportionally spaced fonts. And since Windows just copied the Mac, it’s likely that no personal computer would have them. If I had never dropped out, I would have never dropped in on this calligraphy class, and personal computers might not have the wonderful typography that they do. Of course it was impossible to connect the dots looking forward when I was in college. But it was very, very clear looking backward 10 years later.',\n",
              " 'Again, you can’t connect the dots looking forward; you can only connect them looking backward. So you have to trust that the dots will somehow connect in your future. You have to trust in something — your gut, destiny, life, karma, whatever. This approach has never let me down, and it has made all the difference in my life.',\n",
              " 'My second story is about love and loss.',\n",
              " 'I was lucky — I found what I loved to do early in life. Woz and I started Apple in my parents’ garage when I was 20. We worked hard, and in 10 years Apple had grown from just the two of us in a garage into a $2 billion company with over 4,000 employees. We had just released our finest creation — the Macintosh — a year earlier, and I had just turned 30. And then I got fired. How can you get fired from a company you started? Well, as Apple grew we hired someone who I thought was very talented to run the company with me, and for the first year or so things went well. But then our visions of the future began to diverge and eventually we had a falling out. When we did, our Board of Directors sided with him. So at 30 I was out. And very publicly out. What had been the focus of my entire adult life was gone, and it was devastating.',\n",
              " 'I really didn’t know what to do for a few months. I felt that I had let the previous generation of entrepreneurs down — that I had dropped the baton as it was being passed to me. I met with David Packard and Bob Noyce and tried to apologize for screwing up so badly. I was a very public failure, and I even thought about running away from the valley. But something slowly began to dawn on me — I still loved what I did. The turn of events at Apple had not changed that one bit. I had been rejected, but I was still in love. And so I decided to start over.',\n",
              " 'I didn’t see it then, but it turned out that getting fired from Apple was the best thing that could have ever happened to me. The heaviness of being successful was replaced by the lightness of being a beginner again, less sure about everything. It freed me to enter one of the most creative periods of my life.',\n",
              " 'During the next five years, I started a company named NeXT, another company named Pixar, and fell in love with an amazing woman who would become my wife. Pixar went on to create the world’s first computer animated feature film, Toy Story, and is now the most successful animation studio in the world. In a remarkable turn of events, Apple bought NeXT, I returned to Apple, and the technology we developed at NeXT is at the heart of Apple’s current renaissance. And Laurene and I have a wonderful family together.',\n",
              " 'I’m pretty sure none of this would have happened if I hadn’t been fired from Apple. It was awful tasting medicine, but I guess the patient needed it. Sometimes life hits you in the head with a brick. Don’t lose faith. I’m convinced that the only thing that kept me going was that I loved what I did. You’ve got to find what you love. And that is as true for your work as it is for your lovers. Your work is going to fill a large part of your life, and the only way to be truly satisfied is to do what you believe is great work. And the only way to do great work is to love what you do. If you haven’t found it yet, keep looking. Don’t settle. As with all matters of the heart, you’ll know when you find it. And, like any great relationship, it just gets better and better as the years roll on. So keep looking until you find it. Don’t settle.',\n",
              " 'My third story is about death.',\n",
              " 'When I was 17, I read a quote that went something like: “If you live each day as if it was your last, someday you’ll most certainly be right.” It made an impression on me, and since then, for the past 33 years, I have looked in the mirror every morning and asked myself: “If today were the last day of my life, would I want to do what I am about to do today?” And whenever the answer has been “No” for too many days in a row, I know I need to change something.',\n",
              " 'Remembering that I’ll be dead soon is the most important tool I’ve ever encountered to help me make the big choices in life. Because almost everything — all external expectations, all pride, all fear of embarrassment or failure — these things just fall away in the face of death, leaving only what is truly important. Remembering that you are going to die is the best way I know to avoid the trap of thinking you have something to lose. You are already naked. There is no reason not to follow your heart.',\n",
              " 'About a year ago I was diagnosed with cancer. I had a scan at 7:30 in the morning, and it clearly showed a tumor on my pancreas. I didn’t even know what a pancreas was. The doctors told me this was almost certainly a type of cancer that is incurable, and that I should expect to live no longer than three to six months. My doctor advised me to go home and get my affairs in order, which is doctor’s code for prepare to die. It means to try to tell your kids everything you thought you’d have the next 10 years to tell them in just a few months. It means to make sure everything is buttoned up so that it will be as easy as possible for your family. It means to say your goodbyes.',\n",
              " 'I lived with that diagnosis all day. Later that evening I had a biopsy, where they stuck an endoscope down my throat, through my stomach and into my intestines, put a needle into my pancreas and got a few cells from the tumor. I was sedated, but my wife, who was there, told me that when they viewed the cells under a microscope the doctors started crying because it turned out to be a very rare form of pancreatic cancer that is curable with surgery. I had the surgery and I’m fine now.',\n",
              " 'This was the closest I’ve been to facing death, and I hope it’s the closest I get for a few more decades. Having lived through it, I can now say this to you with a bit more certainty than when death was a useful but purely intellectual concept:',\n",
              " 'No one wants to die. Even people who want to go to heaven don’t want to die to get there. And yet death is the destination we all share. No one has ever escaped it. And that is as it should be, because Death is very likely the single best invention of Life. It is Life’s change agent. It clears out the old to make way for the new. Right now the new is you, but someday not too long from now, you will gradually become the old and be cleared away. Sorry to be so dramatic, but it is quite true.',\n",
              " 'Your time is limited, so don’t waste it living someone else’s life. Don’t be trapped by dogma — which is living with the results of other people’s thinking. Don’t let the noise of others’ opinions drown out your own inner voice. And most important, have the courage to follow your heart and intuition. They somehow already know what you truly want to become. Everything else is secondary.',\n",
              " 'When I was young, there was an amazing publication called The Whole Earth Catalog, which was one of the bibles of my generation. It was created by a fellow named Stewart Brand not far from here in Menlo Park, and he brought it to life with his poetic touch. This was in the late 1960s, before personal computers and desktop publishing, so it was all made with typewriters, scissors and Polaroid cameras. It was sort of like Google in paperback form, 35 years before Google came along: It was idealistic, and overflowing with neat tools and great notions.',\n",
              " 'Stewart and his team put out several issues of The Whole Earth Catalog, and then when it had run its course, they put out a final issue. It was the mid-1970s, and I was your age. On the back cover of their final issue was a photograph of an early morning country road, the kind you might find yourself hitchhiking on if you were so adventurous. Beneath it were the words: “Stay Hungry. Stay Foolish.” It was their farewell message as they signed off. Stay Hungry. Stay Foolish. And I have always wished that for myself. And now, as you graduate to begin anew, I wish that for you.',\n",
              " 'Stay Hungry. Stay Foolish.',\n",
              " 'Thank you all very much.']"
            ]
          },
          "execution_count": 6,
          "metadata": {},
          "output_type": "execute_result"
        }
      ],
      "source": [
        "rdd = sc.parallelize(text1.loc[:,0].tolist())\n",
        "lines = rdd.collect()\n",
        "lines"
      ]
    },
    {
      "cell_type": "code",
      "execution_count": null,
      "id": "e612c479",
      "metadata": {
        "id": "e612c479",
        "outputId": "0b5e3fa8-192d-476d-9ce4-940f097ac5bb"
      },
      "outputs": [
        {
          "data": {
            "text/plain": [
              "['I am honored to be with you today at your commencement from one of the finest universities in the world',\n",
              " ' I never graduated from college',\n",
              " ' Truth be told, this is the closest I’ve ever gotten to a college graduation',\n",
              " ' Today I want to tell you three stories from my life',\n",
              " ' That’s it',\n",
              " ' No big deal',\n",
              " ' Just three stories',\n",
              " '',\n",
              " 'I dropped out of Reed College after the first 6 months, but then stayed around as a drop-in for another 18 months or so before I really quit',\n",
              " ' So why did I drop out?',\n",
              " 'It started before I was born',\n",
              " ' My biological mother was a young, unwed college graduate student, and she decided to put me up for adoption',\n",
              " ' She felt very strongly that I should be adopted by college graduates, so everything was all set for me to be adopted at birth by a lawyer and his wife',\n",
              " ' Except that when I popped out they decided at the last minute that they really wanted a girl',\n",
              " ' So my parents, who were on a waiting list, got a call in the middle of the night asking: “We have an unexpected baby boy; do you want him?” They said: “Of course',\n",
              " '” My biological mother later found out that my mother had never graduated from college and that my father had never graduated from high school',\n",
              " ' She refused to sign the final adoption papers',\n",
              " ' She only relented a few months later when my parents promised that I would someday go to college',\n",
              " '',\n",
              " 'And 17 years later I did go to college',\n",
              " ' But I naively chose a college that was almost as expensive as Stanford, and all of my working-class parents’ savings were being spent on my college tuition',\n",
              " ' After six months, I couldn’t see the value in it',\n",
              " ' I had no idea what I wanted to do with my life and no idea how college was going to help me figure it out',\n",
              " ' And here I was spending all of the money my parents had saved their entire life',\n",
              " ' So I decided to drop out and trust that it would all work out OK',\n",
              " ' It was pretty scary at the time, but looking back it was one of the best decisions I ever made',\n",
              " ' The minute I dropped out I could stop taking the required classes that didn’t interest me, and begin dropping in on the ones that looked interesting',\n",
              " '',\n",
              " 'It wasn’t all romantic',\n",
              " ' I didn’t have a dorm room, so I slept on the floor in friends’ rooms, I returned Coke bottles for the 5¢ deposits to buy food with, and I would walk the 7 miles across town every Sunday night to get one good meal a week at the Hare Krishna temple',\n",
              " ' I loved it',\n",
              " ' And much of what I stumbled into by following my curiosity and intuition turned out to be priceless later on',\n",
              " ' Let me give you one example:',\n",
              " 'Reed College at that time offered perhaps the best calligraphy instruction in the country',\n",
              " ' Throughout the campus every poster, every label on every drawer, was beautifully hand calligraphed',\n",
              " ' Because I had dropped out and didn’t have to take the normal classes, I decided to take a calligraphy class to learn how to do this',\n",
              " ' I learned about serif and sans serif typefaces, about varying the amount of space between different letter combinations, about what makes great typography great',\n",
              " ' It was beautiful, historical, artistically subtle in a way that science can’t capture, and I found it fascinating',\n",
              " '',\n",
              " 'None of this had even a hope of any practical application in my life',\n",
              " ' But 10 years later, when we were designing the first Macintosh computer, it all came back to me',\n",
              " ' And we designed it all into the Mac',\n",
              " ' It was the first computer with beautiful typography',\n",
              " ' If I had never dropped in on that single course in college, the Mac would have never had multiple typefaces or proportionally spaced fonts',\n",
              " ' And since Windows just copied the Mac, it’s likely that no personal computer would have them',\n",
              " ' If I had never dropped out, I would have never dropped in on this calligraphy class, and personal computers might not have the wonderful typography that they do',\n",
              " ' Of course it was impossible to connect the dots looking forward when I was in college',\n",
              " ' But it was very, very clear looking backward 10 years later',\n",
              " '',\n",
              " 'Again, you can’t connect the dots looking forward; you can only connect them looking backward',\n",
              " ' So you have to trust that the dots will somehow connect in your future',\n",
              " ' You have to trust in something — your gut, destiny, life, karma, whatever',\n",
              " ' This approach has never let me down, and it has made all the difference in my life',\n",
              " '',\n",
              " 'My second story is about love and loss',\n",
              " '',\n",
              " 'I was lucky — I found what I loved to do early in life',\n",
              " ' Woz and I started Apple in my parents’ garage when I was 20',\n",
              " ' We worked hard, and in 10 years Apple had grown from just the two of us in a garage into a $2 billion company with over 4,000 employees',\n",
              " ' We had just released our finest creation — the Macintosh — a year earlier, and I had just turned 30',\n",
              " ' And then I got fired',\n",
              " ' How can you get fired from a company you started? Well, as Apple grew we hired someone who I thought was very talented to run the company with me, and for the first year or so things went well',\n",
              " ' But then our visions of the future began to diverge and eventually we had a falling out',\n",
              " ' When we did, our Board of Directors sided with him',\n",
              " ' So at 30 I was out',\n",
              " ' And very publicly out',\n",
              " ' What had been the focus of my entire adult life was gone, and it was devastating',\n",
              " '',\n",
              " 'I really didn’t know what to do for a few months',\n",
              " ' I felt that I had let the previous generation of entrepreneurs down — that I had dropped the baton as it was being passed to me',\n",
              " ' I met with David Packard and Bob Noyce and tried to apologize for screwing up so badly',\n",
              " ' I was a very public failure, and I even thought about running away from the valley',\n",
              " ' But something slowly began to dawn on me — I still loved what I did',\n",
              " ' The turn of events at Apple had not changed that one bit',\n",
              " ' I had been rejected, but I was still in love',\n",
              " ' And so I decided to start over',\n",
              " '',\n",
              " 'I didn’t see it then, but it turned out that getting fired from Apple was the best thing that could have ever happened to me',\n",
              " ' The heaviness of being successful was replaced by the lightness of being a beginner again, less sure about everything',\n",
              " ' It freed me to enter one of the most creative periods of my life',\n",
              " '',\n",
              " 'During the next five years, I started a company named NeXT, another company named Pixar, and fell in love with an amazing woman who would become my wife',\n",
              " ' Pixar went on to create the world’s first computer animated feature film, Toy Story, and is now the most successful animation studio in the world',\n",
              " ' In a remarkable turn of events, Apple bought NeXT, I returned to Apple, and the technology we developed at NeXT is at the heart of Apple’s current renaissance',\n",
              " ' And Laurene and I have a wonderful family together',\n",
              " '',\n",
              " 'I’m pretty sure none of this would have happened if I hadn’t been fired from Apple',\n",
              " ' It was awful tasting medicine, but I guess the patient needed it',\n",
              " ' Sometimes life hits you in the head with a brick',\n",
              " ' Don’t lose faith',\n",
              " ' I’m convinced that the only thing that kept me going was that I loved what I did',\n",
              " ' You’ve got to find what you love',\n",
              " ' And that is as true for your work as it is for your lovers',\n",
              " ' Your work is going to fill a large part of your life, and the only way to be truly satisfied is to do what you believe is great work',\n",
              " ' And the only way to do great work is to love what you do',\n",
              " ' If you haven’t found it yet, keep looking',\n",
              " ' Don’t settle',\n",
              " ' As with all matters of the heart, you’ll know when you find it',\n",
              " ' And, like any great relationship, it just gets better and better as the years roll on',\n",
              " ' So keep looking until you find it',\n",
              " ' Don’t settle',\n",
              " '',\n",
              " 'My third story is about death',\n",
              " '',\n",
              " 'When I was 17, I read a quote that went something like: “If you live each day as if it was your last, someday you’ll most certainly be right',\n",
              " '” It made an impression on me, and since then, for the past 33 years, I have looked in the mirror every morning and asked myself: “If today were the last day of my life, would I want to do what I am about to do today?” And whenever the answer has been “No” for too many days in a row, I know I need to change something',\n",
              " '',\n",
              " 'Remembering that I’ll be dead soon is the most important tool I’ve ever encountered to help me make the big choices in life',\n",
              " ' Because almost everything — all external expectations, all pride, all fear of embarrassment or failure — these things just fall away in the face of death, leaving only what is truly important',\n",
              " ' Remembering that you are going to die is the best way I know to avoid the trap of thinking you have something to lose',\n",
              " ' You are already naked',\n",
              " ' There is no reason not to follow your heart',\n",
              " '',\n",
              " 'About a year ago I was diagnosed with cancer',\n",
              " ' I had a scan at 7:30 in the morning, and it clearly showed a tumor on my pancreas',\n",
              " ' I didn’t even know what a pancreas was',\n",
              " ' The doctors told me this was almost certainly a type of cancer that is incurable, and that I should expect to live no longer than three to six months',\n",
              " ' My doctor advised me to go home and get my affairs in order, which is doctor’s code for prepare to die',\n",
              " ' It means to try to tell your kids everything you thought you’d have the next 10 years to tell them in just a few months',\n",
              " ' It means to make sure everything is buttoned up so that it will be as easy as possible for your family',\n",
              " ' It means to say your goodbyes',\n",
              " '',\n",
              " 'I lived with that diagnosis all day',\n",
              " ' Later that evening I had a biopsy, where they stuck an endoscope down my throat, through my stomach and into my intestines, put a needle into my pancreas and got a few cells from the tumor',\n",
              " ' I was sedated, but my wife, who was there, told me that when they viewed the cells under a microscope the doctors started crying because it turned out to be a very rare form of pancreatic cancer that is curable with surgery',\n",
              " ' I had the surgery and I’m fine now',\n",
              " '',\n",
              " 'This was the closest I’ve been to facing death, and I hope it’s the closest I get for a few more decades',\n",
              " ' Having lived through it, I can now say this to you with a bit more certainty than when death was a useful but purely intellectual concept:',\n",
              " 'No one wants to die',\n",
              " ' Even people who want to go to heaven don’t want to die to get there',\n",
              " ' And yet death is the destination we all share',\n",
              " ' No one has ever escaped it',\n",
              " ' And that is as it should be, because Death is very likely the single best invention of Life',\n",
              " ' It is Life’s change agent',\n",
              " ' It clears out the old to make way for the new',\n",
              " ' Right now the new is you, but someday not too long from now, you will gradually become the old and be cleared away',\n",
              " ' Sorry to be so dramatic, but it is quite true',\n",
              " '',\n",
              " 'Your time is limited, so don’t waste it living someone else’s life',\n",
              " ' Don’t be trapped by dogma — which is living with the results of other people’s thinking',\n",
              " ' Don’t let the noise of others’ opinions drown out your own inner voice',\n",
              " ' And most important, have the courage to follow your heart and intuition',\n",
              " ' They somehow already know what you truly want to become',\n",
              " ' Everything else is secondary',\n",
              " '',\n",
              " 'When I was young, there was an amazing publication called The Whole Earth Catalog, which was one of the bibles of my generation',\n",
              " ' It was created by a fellow named Stewart Brand not far from here in Menlo Park, and he brought it to life with his poetic touch',\n",
              " ' This was in the late 1960s, before personal computers and desktop publishing, so it was all made with typewriters, scissors and Polaroid cameras',\n",
              " ' It was sort of like Google in paperback form, 35 years before Google came along: It was idealistic, and overflowing with neat tools and great notions',\n",
              " '',\n",
              " 'Stewart and his team put out several issues of The Whole Earth Catalog, and then when it had run its course, they put out a final issue',\n",
              " ' It was the mid-1970s, and I was your age',\n",
              " ' On the back cover of their final issue was a photograph of an early morning country road, the kind you might find yourself hitchhiking on if you were so adventurous',\n",
              " ' Beneath it were the words: “Stay Hungry',\n",
              " ' Stay Foolish',\n",
              " '” It was their farewell message as they signed off',\n",
              " ' Stay Hungry',\n",
              " ' Stay Foolish',\n",
              " ' And I have always wished that for myself',\n",
              " ' And now, as you graduate to begin anew, I wish that for you',\n",
              " '',\n",
              " 'Stay Hungry',\n",
              " ' Stay Foolish',\n",
              " '',\n",
              " 'Thank you all very much',\n",
              " '']"
            ]
          },
          "execution_count": 7,
          "metadata": {},
          "output_type": "execute_result"
        }
      ],
      "source": [
        "lines1 = []\n",
        "for l in lines:\n",
        "  s1 = l.split('.')\n",
        "  for i in range(len(s1)):\n",
        "    lines1.append(s1[i])\n",
        "\n",
        "lines1"
      ]
    },
    {
      "cell_type": "code",
      "execution_count": null,
      "id": "e6412f78",
      "metadata": {
        "id": "e6412f78",
        "outputId": "3d072b21-75cb-40a4-f301-0f0aa47e3f16"
      },
      "outputs": [
        {
          "data": {
            "text/plain": [
              "['I am honored to be with you today at your commencement from one of the finest universities in the world',\n",
              " ' I never graduated from college',\n",
              " ' Truth be told, this is the closest I’ve ever gotten to a college graduation',\n",
              " ' Today I want to tell you three stories from my life',\n",
              " ' That’s it',\n",
              " ' No big deal',\n",
              " ' Just three stories',\n",
              " 'I dropped out of Reed College after the first 6 months, but then stayed around as a drop-in for another 18 months or so before I really quit',\n",
              " ' So why did I drop out?',\n",
              " 'It started before I was born',\n",
              " ' My biological mother was a young, unwed college graduate student, and she decided to put me up for adoption',\n",
              " ' She felt very strongly that I should be adopted by college graduates, so everything was all set for me to be adopted at birth by a lawyer and his wife',\n",
              " ' Except that when I popped out they decided at the last minute that they really wanted a girl',\n",
              " ' So my parents, who were on a waiting list, got a call in the middle of the night asking: “We have an unexpected baby boy; do you want him?” They said: “Of course',\n",
              " '” My biological mother later found out that my mother had never graduated from college and that my father had never graduated from high school',\n",
              " ' She refused to sign the final adoption papers',\n",
              " ' She only relented a few months later when my parents promised that I would someday go to college',\n",
              " 'And 17 years later I did go to college',\n",
              " ' But I naively chose a college that was almost as expensive as Stanford, and all of my working-class parents’ savings were being spent on my college tuition',\n",
              " ' After six months, I couldn’t see the value in it',\n",
              " ' I had no idea what I wanted to do with my life and no idea how college was going to help me figure it out',\n",
              " ' And here I was spending all of the money my parents had saved their entire life',\n",
              " ' So I decided to drop out and trust that it would all work out OK',\n",
              " ' It was pretty scary at the time, but looking back it was one of the best decisions I ever made',\n",
              " ' The minute I dropped out I could stop taking the required classes that didn’t interest me, and begin dropping in on the ones that looked interesting',\n",
              " 'It wasn’t all romantic',\n",
              " ' I didn’t have a dorm room, so I slept on the floor in friends’ rooms, I returned Coke bottles for the 5¢ deposits to buy food with, and I would walk the 7 miles across town every Sunday night to get one good meal a week at the Hare Krishna temple',\n",
              " ' I loved it',\n",
              " ' And much of what I stumbled into by following my curiosity and intuition turned out to be priceless later on',\n",
              " ' Let me give you one example:',\n",
              " 'Reed College at that time offered perhaps the best calligraphy instruction in the country',\n",
              " ' Throughout the campus every poster, every label on every drawer, was beautifully hand calligraphed',\n",
              " ' Because I had dropped out and didn’t have to take the normal classes, I decided to take a calligraphy class to learn how to do this',\n",
              " ' I learned about serif and sans serif typefaces, about varying the amount of space between different letter combinations, about what makes great typography great',\n",
              " ' It was beautiful, historical, artistically subtle in a way that science can’t capture, and I found it fascinating',\n",
              " 'None of this had even a hope of any practical application in my life',\n",
              " ' But 10 years later, when we were designing the first Macintosh computer, it all came back to me',\n",
              " ' And we designed it all into the Mac',\n",
              " ' It was the first computer with beautiful typography',\n",
              " ' If I had never dropped in on that single course in college, the Mac would have never had multiple typefaces or proportionally spaced fonts',\n",
              " ' And since Windows just copied the Mac, it’s likely that no personal computer would have them',\n",
              " ' If I had never dropped out, I would have never dropped in on this calligraphy class, and personal computers might not have the wonderful typography that they do',\n",
              " ' Of course it was impossible to connect the dots looking forward when I was in college',\n",
              " ' But it was very, very clear looking backward 10 years later',\n",
              " 'Again, you can’t connect the dots looking forward; you can only connect them looking backward',\n",
              " ' So you have to trust that the dots will somehow connect in your future',\n",
              " ' You have to trust in something — your gut, destiny, life, karma, whatever',\n",
              " ' This approach has never let me down, and it has made all the difference in my life',\n",
              " 'My second story is about love and loss',\n",
              " 'I was lucky — I found what I loved to do early in life',\n",
              " ' Woz and I started Apple in my parents’ garage when I was 20',\n",
              " ' We worked hard, and in 10 years Apple had grown from just the two of us in a garage into a $2 billion company with over 4,000 employees',\n",
              " ' We had just released our finest creation — the Macintosh — a year earlier, and I had just turned 30',\n",
              " ' And then I got fired',\n",
              " ' How can you get fired from a company you started? Well, as Apple grew we hired someone who I thought was very talented to run the company with me, and for the first year or so things went well',\n",
              " ' But then our visions of the future began to diverge and eventually we had a falling out',\n",
              " ' When we did, our Board of Directors sided with him',\n",
              " ' So at 30 I was out',\n",
              " ' And very publicly out',\n",
              " ' What had been the focus of my entire adult life was gone, and it was devastating',\n",
              " 'I really didn’t know what to do for a few months',\n",
              " ' I felt that I had let the previous generation of entrepreneurs down — that I had dropped the baton as it was being passed to me',\n",
              " ' I met with David Packard and Bob Noyce and tried to apologize for screwing up so badly',\n",
              " ' I was a very public failure, and I even thought about running away from the valley',\n",
              " ' But something slowly began to dawn on me — I still loved what I did',\n",
              " ' The turn of events at Apple had not changed that one bit',\n",
              " ' I had been rejected, but I was still in love',\n",
              " ' And so I decided to start over',\n",
              " 'I didn’t see it then, but it turned out that getting fired from Apple was the best thing that could have ever happened to me',\n",
              " ' The heaviness of being successful was replaced by the lightness of being a beginner again, less sure about everything',\n",
              " ' It freed me to enter one of the most creative periods of my life',\n",
              " 'During the next five years, I started a company named NeXT, another company named Pixar, and fell in love with an amazing woman who would become my wife',\n",
              " ' Pixar went on to create the world’s first computer animated feature film, Toy Story, and is now the most successful animation studio in the world',\n",
              " ' In a remarkable turn of events, Apple bought NeXT, I returned to Apple, and the technology we developed at NeXT is at the heart of Apple’s current renaissance',\n",
              " ' And Laurene and I have a wonderful family together',\n",
              " 'I’m pretty sure none of this would have happened if I hadn’t been fired from Apple',\n",
              " ' It was awful tasting medicine, but I guess the patient needed it',\n",
              " ' Sometimes life hits you in the head with a brick',\n",
              " ' Don’t lose faith',\n",
              " ' I’m convinced that the only thing that kept me going was that I loved what I did',\n",
              " ' You’ve got to find what you love',\n",
              " ' And that is as true for your work as it is for your lovers',\n",
              " ' Your work is going to fill a large part of your life, and the only way to be truly satisfied is to do what you believe is great work',\n",
              " ' And the only way to do great work is to love what you do',\n",
              " ' If you haven’t found it yet, keep looking',\n",
              " ' Don’t settle',\n",
              " ' As with all matters of the heart, you’ll know when you find it',\n",
              " ' And, like any great relationship, it just gets better and better as the years roll on',\n",
              " ' So keep looking until you find it',\n",
              " ' Don’t settle',\n",
              " 'My third story is about death',\n",
              " 'When I was 17, I read a quote that went something like: “If you live each day as if it was your last, someday you’ll most certainly be right',\n",
              " '” It made an impression on me, and since then, for the past 33 years, I have looked in the mirror every morning and asked myself: “If today were the last day of my life, would I want to do what I am about to do today?” And whenever the answer has been “No” for too many days in a row, I know I need to change something',\n",
              " 'Remembering that I’ll be dead soon is the most important tool I’ve ever encountered to help me make the big choices in life',\n",
              " ' Because almost everything — all external expectations, all pride, all fear of embarrassment or failure — these things just fall away in the face of death, leaving only what is truly important',\n",
              " ' Remembering that you are going to die is the best way I know to avoid the trap of thinking you have something to lose',\n",
              " ' You are already naked',\n",
              " ' There is no reason not to follow your heart',\n",
              " 'About a year ago I was diagnosed with cancer',\n",
              " ' I had a scan at 7:30 in the morning, and it clearly showed a tumor on my pancreas',\n",
              " ' I didn’t even know what a pancreas was',\n",
              " ' The doctors told me this was almost certainly a type of cancer that is incurable, and that I should expect to live no longer than three to six months',\n",
              " ' My doctor advised me to go home and get my affairs in order, which is doctor’s code for prepare to die',\n",
              " ' It means to try to tell your kids everything you thought you’d have the next 10 years to tell them in just a few months',\n",
              " ' It means to make sure everything is buttoned up so that it will be as easy as possible for your family',\n",
              " ' It means to say your goodbyes',\n",
              " 'I lived with that diagnosis all day',\n",
              " ' Later that evening I had a biopsy, where they stuck an endoscope down my throat, through my stomach and into my intestines, put a needle into my pancreas and got a few cells from the tumor',\n",
              " ' I was sedated, but my wife, who was there, told me that when they viewed the cells under a microscope the doctors started crying because it turned out to be a very rare form of pancreatic cancer that is curable with surgery',\n",
              " ' I had the surgery and I’m fine now',\n",
              " 'This was the closest I’ve been to facing death, and I hope it’s the closest I get for a few more decades',\n",
              " ' Having lived through it, I can now say this to you with a bit more certainty than when death was a useful but purely intellectual concept:',\n",
              " 'No one wants to die',\n",
              " ' Even people who want to go to heaven don’t want to die to get there',\n",
              " ' And yet death is the destination we all share',\n",
              " ' No one has ever escaped it',\n",
              " ' And that is as it should be, because Death is very likely the single best invention of Life',\n",
              " ' It is Life’s change agent',\n",
              " ' It clears out the old to make way for the new',\n",
              " ' Right now the new is you, but someday not too long from now, you will gradually become the old and be cleared away',\n",
              " ' Sorry to be so dramatic, but it is quite true',\n",
              " 'Your time is limited, so don’t waste it living someone else’s life',\n",
              " ' Don’t be trapped by dogma — which is living with the results of other people’s thinking',\n",
              " ' Don’t let the noise of others’ opinions drown out your own inner voice',\n",
              " ' And most important, have the courage to follow your heart and intuition',\n",
              " ' They somehow already know what you truly want to become',\n",
              " ' Everything else is secondary',\n",
              " 'When I was young, there was an amazing publication called The Whole Earth Catalog, which was one of the bibles of my generation',\n",
              " ' It was created by a fellow named Stewart Brand not far from here in Menlo Park, and he brought it to life with his poetic touch',\n",
              " ' This was in the late 1960s, before personal computers and desktop publishing, so it was all made with typewriters, scissors and Polaroid cameras',\n",
              " ' It was sort of like Google in paperback form, 35 years before Google came along: It was idealistic, and overflowing with neat tools and great notions',\n",
              " 'Stewart and his team put out several issues of The Whole Earth Catalog, and then when it had run its course, they put out a final issue',\n",
              " ' It was the mid-1970s, and I was your age',\n",
              " ' On the back cover of their final issue was a photograph of an early morning country road, the kind you might find yourself hitchhiking on if you were so adventurous',\n",
              " ' Beneath it were the words: “Stay Hungry',\n",
              " ' Stay Foolish',\n",
              " '” It was their farewell message as they signed off',\n",
              " ' Stay Hungry',\n",
              " ' Stay Foolish',\n",
              " ' And I have always wished that for myself',\n",
              " ' And now, as you graduate to begin anew, I wish that for you',\n",
              " 'Stay Hungry',\n",
              " ' Stay Foolish',\n",
              " 'Thank you all very much']"
            ]
          },
          "execution_count": 9,
          "metadata": {},
          "output_type": "execute_result"
        }
      ],
      "source": [
        "lines_clean = []\n",
        "for i in lines1:\n",
        "  if i != '':\n",
        "    lines_clean.append(i)\n",
        "\n",
        "lines_clean"
      ]
    },
    {
      "cell_type": "code",
      "source": [
        "# function for cleaning the data\n",
        "def clean_data(data):\n",
        "    data.replace(\"[^a-zA-Z]\", \" \", regex=True, inplace=True)\n",
        "    return data"
      ],
      "metadata": {
        "id": "L4-BKZvCwKcs"
      },
      "id": "L4-BKZvCwKcs",
      "execution_count": 2,
      "outputs": []
    },
    {
      "cell_type": "code",
      "execution_count": null,
      "id": "49240756",
      "metadata": {
        "id": "49240756"
      },
      "outputs": [],
      "source": [
        "# Create an empty dictionary\n",
        "d = dict()\n",
        "  \n",
        "# Loop through each line of the file\n",
        "for line in lines_clean:\n",
        "    # Remove the leading spaces and newline character\n",
        "    line = line.strip()\n",
        "  \n",
        "    # Convert the characters in line to \n",
        "    # lowercase to avoid case mismatch\n",
        "    line = line.lower()\n",
        "  \n",
        "    # Split the line into words\n",
        "    words = line.split(\" \")\n",
        "  \n",
        "    # Iterate over each word in line\n",
        "    for word in words:\n",
        "        # Check if the word is already in dictionary\n",
        "        if word in d:\n",
        "            # Increment count of word by 1\n",
        "            d[word] = d[word] + 1\n",
        "        else:\n",
        "            # Add the word to dictionary with count 1\n",
        "            d[word] = 1"
      ]
    },
    {
      "cell_type": "code",
      "execution_count": null,
      "id": "c6027960",
      "metadata": {
        "scrolled": false,
        "id": "c6027960",
        "outputId": "75588ad2-cbbd-41d0-b642-f57b60ae21ba"
      },
      "outputs": [
        {
          "name": "stdout",
          "output_type": "stream",
          "text": [
            "the: 96: 0.67\n",
            "i: 86: 0.60\n",
            "to: 71: 0.49\n",
            "and: 66: 0.46\n",
            "it: 52: 0.36\n",
            "was: 48: 0.33\n",
            "a: 46: 0.32\n",
            "of: 41: 0.28\n",
            "that: 38: 0.26\n",
            "in: 34: 0.24\n",
            "you: 30: 0.21\n",
            "my: 30: 0.21\n",
            "is: 28: 0.19\n",
            "had: 22: 0.15\n",
            "with: 18: 0.12\n",
            "out: 18: 0.12\n",
            "for: 17: 0.12\n",
            "so: 17: 0.12\n",
            "have: 17: 0.12\n",
            "your: 16: 0.11\n",
            "all: 16: 0.11\n",
            "as: 15: 0.10\n",
            "me: 15: 0.10\n",
            "on: 15: 0.10\n",
            "what: 15: 0.10\n",
            "but: 14: 0.10\n",
            "be: 13: 0.09\n",
            "from: 13: 0.09\n",
            "college: 13: 0.09\n",
            "life: 13: 0.09\n"
          ]
        }
      ],
      "source": [
        "from collections import Counter\n",
        "d1 = Counter(d)\n",
        "d1.most_common()\n",
        "for k, v in d1.most_common(30):\n",
        "  print('%s: %i: %.2f' % (k, v, v/len(lines_clean))) "
      ]
    },
    {
      "cell_type": "markdown",
      "id": "aecd3d77",
      "metadata": {
        "id": "aecd3d77"
      },
      "source": [
        "# Q2 \n",
        "\n",
        "In YARN cluster mode, implement a program to calculate the average amount (“Total_amount”) in credit card trip and cash trip for different numbers of passengers, which are from one to four passengers in 2018/10 NYC Yellow Taxi trip data. In NYC Taxi data, the \"Passenger_count\" is a driver-entered value. Explain also how you deal with the data loss issue."
      ]
    },
    {
      "cell_type": "code",
      "execution_count": null,
      "id": "2b165b8b",
      "metadata": {
        "id": "2b165b8b"
      },
      "outputs": [],
      "source": [
        "import pandas as pd\n",
        "from pyspark.sql import SparkSession\n",
        "from pyspark import SparkConf, SparkContext"
      ]
    },
    {
      "cell_type": "code",
      "execution_count": null,
      "id": "a2b64bf9",
      "metadata": {
        "scrolled": true,
        "id": "a2b64bf9",
        "outputId": "c20c4e3b-98ab-4057-90f1-ff0e0e252970"
      },
      "outputs": [
        {
          "name": "stderr",
          "output_type": "stream",
          "text": [
            "Setting default log level to \"WARN\".\n",
            "To adjust logging level use sc.setLogLevel(newLevel). For SparkR, use setLogLevel(newLevel).\n",
            "22/04/30 01:29:16 INFO org.apache.spark.SparkEnv: Registering MapOutputTracker\n",
            "22/04/30 01:29:16 INFO org.apache.spark.SparkEnv: Registering BlockManagerMaster\n",
            "22/04/30 01:29:16 INFO org.apache.spark.SparkEnv: Registering BlockManagerMasterHeartbeat\n",
            "22/04/30 01:29:16 INFO org.apache.spark.SparkEnv: Registering OutputCommitCoordinator\n"
          ]
        }
      ],
      "source": [
        "# yarn cluster\n",
        "# spark = SparkSession.builder.master(\"local[*]\").appName(\"HW\").getOrCreate()\n",
        "spark = SparkSession.builder.master(\"yarn\").appName(\"user\").getOrCreate()\n",
        "sparkcontext = spark.sparkContext"
      ]
    },
    {
      "cell_type": "code",
      "execution_count": null,
      "id": "3c61baf4",
      "metadata": {
        "id": "3c61baf4",
        "outputId": "533942ce-4b5d-4d05-a6d7-465883b300f7"
      },
      "outputs": [
        {
          "name": "stderr",
          "output_type": "stream",
          "text": [
            "                                                                                \r"
          ]
        }
      ],
      "source": [
        "path1 = 'gs://yellow_tripdata_2018_10/yellow_tripdata_2018-10.csv'\n",
        "\n",
        "# data\n",
        "data_1 = spark.read.csv(path1, header=True, inferSchema=True)"
      ]
    },
    {
      "cell_type": "code",
      "execution_count": null,
      "id": "3b8801b7",
      "metadata": {
        "id": "3b8801b7"
      },
      "outputs": [],
      "source": [
        "import pyspark.sql.functions as f\n",
        "\n",
        "data_q2 = data_1.select(\"total_amount\", \"passenger_count\", \"payment_type\")"
      ]
    },
    {
      "cell_type": "code",
      "execution_count": null,
      "id": "cec7121e",
      "metadata": {
        "id": "cec7121e",
        "outputId": "974bf2aa-b74a-490c-857a-54228dcbf3dc"
      },
      "outputs": [
        {
          "name": "stderr",
          "output_type": "stream",
          "text": [
            "[Stage 23:================================================>         (5 + 1) / 6]\r"
          ]
        },
        {
          "name": "stdout",
          "output_type": "stream",
          "text": [
            "[18.095616294838994, 18.82315922602104, 18.397956039882864, 18.679751424181198]\n",
            "[13.682682121839113, 14.72907295625041, 14.810038897804311, 15.506981138430348]\n"
          ]
        },
        {
          "name": "stderr",
          "output_type": "stream",
          "text": [
            "                                                                                \r"
          ]
        }
      ],
      "source": [
        "passenger_count = [1,2,3,4]\n",
        "Credit_card_agv = []\n",
        "Cash_agv = []\n",
        "\n",
        "for i in range(1,3):\n",
        "  for j in range(1, 5):\n",
        "    d1 = data_q2.filter((data_q2.payment_type == i) & (data_q2.passenger_count == j)).agg({'total_amount': 'avg'}).collect()[0][\"avg(total_amount)\"]\n",
        "    if i == 1:\n",
        "      Credit_card_agv.append(d1)\n",
        "    else:\n",
        "      Cash_agv.append(d1)\n",
        "\n",
        "print(Credit_card_agv)\n",
        "print(Cash_agv)"
      ]
    },
    {
      "cell_type": "code",
      "execution_count": null,
      "id": "e69a340e",
      "metadata": {
        "id": "e69a340e",
        "outputId": "34e17d3b-1278-439f-e6de-df07ba32f1d5"
      },
      "outputs": [
        {
          "name": "stderr",
          "output_type": "stream",
          "text": [
            "                                                                                \r"
          ]
        },
        {
          "name": "stdout",
          "output_type": "stream",
          "text": [
            "+---------------+------------------+------------------+\n",
            "|passenger_count|   Credit_card_agv|          Cash_agv|\n",
            "+---------------+------------------+------------------+\n",
            "|              1|18.095616294838994|13.682682121839113|\n",
            "|              2| 18.82315922602104| 14.72907295625041|\n",
            "|              3|18.397956039882864|14.810038897804311|\n",
            "|              4|18.679751424181198|15.506981138430348|\n",
            "+---------------+------------------+------------------+\n",
            "\n"
          ]
        }
      ],
      "source": [
        "# importing module\n",
        "import pyspark\n",
        "  \n",
        "# specify column names\n",
        "columns = ['passenger_count', 'Credit_card_agv', 'Cash_agv']\n",
        "  \n",
        "# creating a dataframe by zipping the two lists\n",
        "dataframe = spark.createDataFrame(zip(passenger_count, Credit_card_agv, Cash_agv), columns)\n",
        "  \n",
        "# show data frame\n",
        "dataframe.show()"
      ]
    }
  ],
  "metadata": {
    "kernelspec": {
      "display_name": "Python 3",
      "language": "python",
      "name": "python3"
    },
    "language_info": {
      "codemirror_mode": {
        "name": "ipython",
        "version": 3
      },
      "file_extension": ".py",
      "mimetype": "text/x-python",
      "name": "python",
      "nbconvert_exporter": "python",
      "pygments_lexer": "ipython3",
      "version": "3.8.13"
    },
    "colab": {
      "name": "HW3_310712009.ipynb",
      "provenance": [],
      "collapsed_sections": [],
      "toc_visible": true
    }
  },
  "nbformat": 4,
  "nbformat_minor": 5
}